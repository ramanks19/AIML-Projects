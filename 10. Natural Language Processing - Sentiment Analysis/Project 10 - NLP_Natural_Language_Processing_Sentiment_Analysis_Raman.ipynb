{
 "cells": [
  {
   "cell_type": "markdown",
   "metadata": {
    "id": "swuOH8ZHTEcO"
   },
   "source": [
    "## Project Description\n",
    "\n",
    "A hands on project to build a text classification model that analyses the customer's sentiments based on their reviews in the IMDB database."
   ]
  },
  {
   "cell_type": "markdown",
   "metadata": {
    "id": "DqYb53-gTnN2"
   },
   "source": [
    "## Data Description\n",
    "\n",
    "The Dataset of 50,000 movie reviews from IMDB, labelled by sentiment (positive/negative). Reviews have been preprocessed, and each review is encoded as a sequence of word indexes (integers). For convenience, the words are indexed by their frequency in the dataset, meaning the for that has index 1 is the most frequent word. As a convention, \"0\" does not stand for a specific word, but instead is used to encode any unknown word.\n",
    "\n",
    "Use the first 20 words from each review to speed up training, using a max vocab size of 10,000.\n"
   ]
  },
  {
   "cell_type": "markdown",
   "metadata": {
    "id": "u6MiUz_mUBvC"
   },
   "source": [
    "## Objective\n",
    "\n",
    "The objective of this project is to build a text classification model that analyses the customer's sentiments based on their reviews in the IMDB database. The model uses a complex deep learning model to build an embedding layer followed by a classification algorithm to analyze the sentiment of the customers."
   ]
  },
  {
   "cell_type": "code",
   "execution_count": 1,
   "metadata": {
    "colab": {
     "base_uri": "https://localhost:8080/",
     "height": 35
    },
    "id": "KiPL2LElRWZ6",
    "outputId": "e66bac2e-aefd-42e7-f6d6-a3a105b3a40f"
   },
   "outputs": [
    {
     "data": {
      "application/vnd.google.colaboratory.intrinsic+json": {
       "type": "string"
      },
      "text/plain": [
       "'2.4.0'"
      ]
     },
     "execution_count": 1,
     "metadata": {
      "tags": []
     },
     "output_type": "execute_result"
    }
   ],
   "source": [
    "%tensorflow_version 2.x\n",
    "import tensorflow \n",
    "tensorflow.__version__"
   ]
  },
  {
   "cell_type": "code",
   "execution_count": 2,
   "metadata": {
    "colab": {
     "base_uri": "https://localhost:8080/"
    },
    "id": "BMEKRfORUzzT",
    "outputId": "0373f0ce-6e53-448c-9410-6f1c9742aaca"
   },
   "outputs": [
    {
     "name": "stdout",
     "output_type": "stream",
     "text": [
      "Mounted at /content/gdrive\n"
     ]
    }
   ],
   "source": [
    "# Mounting google drive\n",
    "from google.colab import drive\n",
    "drive.mount(\"/content/gdrive\")"
   ]
  },
  {
   "cell_type": "markdown",
   "metadata": {
    "id": "qnDoMEyPVRHt"
   },
   "source": [
    "#### Change current working directory to project folder"
   ]
  },
  {
   "cell_type": "code",
   "execution_count": 3,
   "metadata": {
    "colab": {
     "base_uri": "https://localhost:8080/"
    },
    "id": "cBZUtVzpVF2m",
    "outputId": "02bfa0d1-bb5a-4a1e-88e1-50e6965d80cc"
   },
   "outputs": [
    {
     "name": "stdout",
     "output_type": "stream",
     "text": [
      "\n",
      "Working directory:  /content\n",
      "Working Directory has changed\n",
      "\n",
      "Current Working Directory: /content/gdrive/MyDrive/AIML/Projects/NLP/Sentiment Analysis\n"
     ]
    }
   ],
   "source": [
    "import os\n",
    "cwd_old = os.getcwd()\n",
    "print('\\nWorking directory: ', cwd_old)\n",
    "\n",
    "os.chdir('gdrive/MyDrive/AIML/Projects/NLP/Sentiment Analysis')\n",
    "print('Working Directory has changed')\n",
    "\n",
    "#verifying the currebt directory has changed\n",
    "cwd_new = os.getcwd()\n",
    "print('\\nCurrent Working Directory:', cwd_new)"
   ]
  },
  {
   "cell_type": "markdown",
   "metadata": {
    "id": "lLW86sGfWdTi"
   },
   "source": [
    "#### Import Packages"
   ]
  },
  {
   "cell_type": "code",
   "execution_count": 4,
   "metadata": {
    "id": "bWmQSqVRWXSE"
   },
   "outputs": [],
   "source": [
    "# ignore warnings\n",
    "import warnings\n",
    "warnings.filterwarnings('ignore')"
   ]
  },
  {
   "cell_type": "code",
   "execution_count": 5,
   "metadata": {
    "id": "tsJMXlZ0WtJH"
   },
   "outputs": [],
   "source": [
    "# Initialize the random number generator\n",
    "random_state = 42\n",
    "tensorflow.random.set_seed(random_state)"
   ]
  },
  {
   "cell_type": "code",
   "execution_count": 6,
   "metadata": {
    "id": "V4nDn3ZqXBwi"
   },
   "outputs": [],
   "source": [
    "import pandas as pd\n",
    "import numpy as np\n",
    "import matplotlib.pyplot as plt\n",
    "import seaborn as sns\n",
    "from itertools import islice\n",
    "\n",
    "from sklearn.model_selection import train_test_split\n",
    "from sklearn.metrics import classification_report, confusion_matrix\n",
    "\n",
    "from tensorflow.keras.datasets import imdb\n",
    "from tensorflow.keras.models import Sequential\n",
    "from tensorflow.keras.layers import Dense, Embedding, LSTM, Dropout, MaxPooling1D, Conv1D, TimeDistributed, Flatten\n",
    "from tensorflow.keras.preprocessing.sequence import pad_sequences\n",
    "from tensorflow.keras.optimizers import Adam\n",
    "from tensorflow.keras.callbacks import ModelCheckpoint, EarlyStopping"
   ]
  },
  {
   "cell_type": "markdown",
   "metadata": {
    "id": "QJP6uPBoaraV"
   },
   "source": [
    "#### Import the data\n",
    "\n",
    "*   Use imdb.load_data() method\n",
    "*   Get train and test set\n",
    "*   Take 10000 most frequent words\n",
    "\n",
    "\n",
    "\n"
   ]
  },
  {
   "cell_type": "code",
   "execution_count": 7,
   "metadata": {
    "colab": {
     "base_uri": "https://localhost:8080/"
    },
    "id": "g-wzveC0agQ_",
    "outputId": "d706d2d5-c1ba-48bf-9ff1-a039c6f757be"
   },
   "outputs": [
    {
     "name": "stdout",
     "output_type": "stream",
     "text": [
      "Downloading data from https://storage.googleapis.com/tensorflow/tf-keras-datasets/imdb.npz\n",
      "17465344/17464789 [==============================] - 0s 0us/step\n"
     ]
    }
   ],
   "source": [
    "vocab_size = 10000\n",
    "(X_train, y_train), (X_test, y_test) = imdb.load_data(num_words = vocab_size)"
   ]
  },
  {
   "cell_type": "markdown",
   "metadata": {
    "id": "9WsaL1xtdq2a"
   },
   "source": [
    "#### Pad each sentence to be of same length\n",
    "\n",
    "*   Take maximum sequence length as 300\n",
    "\n"
   ]
  },
  {
   "cell_type": "code",
   "execution_count": 8,
   "metadata": {
    "id": "pjqaN7wydfRA"
   },
   "outputs": [],
   "source": [
    "max_len = 300\n",
    "\n",
    "X_train = pad_sequences(X_train, maxlen = max_len, padding = 'pre')\n",
    "X_test = pad_sequences(X_test, maxlen = max_len, padding = 'pre')\n",
    "\n",
    "X = np.concatenate((X_train, X_test), axis = 0)\n",
    "y = np.concatenate((y_train, y_test), axis = 0)\n",
    "\n",
    "X_train, X_test, y_train, y_test = train_test_split(X, y, test_size = 0.2, random_state = random_state, shuffle = True)\n",
    "X_train, X_valid, y_train, y_valid = train_test_split(X_train, y_train, test_size = 0.2, random_state = random_state, shuffle = True)"
   ]
  },
  {
   "cell_type": "markdown",
   "metadata": {
    "id": "xbkNG5z-eG2N"
   },
   "source": [
    "#### Print shape of features and labels"
   ]
  },
  {
   "cell_type": "markdown",
   "metadata": {
    "id": "8Mzl-9VPeTiX"
   },
   "source": [
    "*   Number of review, number of words in each review\n"
   ]
  },
  {
   "cell_type": "code",
   "execution_count": 9,
   "metadata": {
    "colab": {
     "base_uri": "https://localhost:8080/"
    },
    "id": "Xcwax0baloBl",
    "outputId": "d2e95a5e-8640-4614-93dd-e78c6949f1ba"
   },
   "outputs": [
    {
     "name": "stdout",
     "output_type": "stream",
     "text": [
      "Number of rows in training dataset: 32000\n",
      "Number of unique words in training dataset: 9999\n"
     ]
    }
   ],
   "source": [
    "print(f'Number of rows in training dataset: {X_train.shape[0]}')\n",
    "print(f'Number of unique words in training dataset: {len(np.unique(np.hstack(X_train)))}')"
   ]
  },
  {
   "cell_type": "code",
   "execution_count": 10,
   "metadata": {
    "colab": {
     "base_uri": "https://localhost:8080/"
    },
    "id": "1jaLUl8NC55_",
    "outputId": "63f7c8a5-b51a-4f27-c1ba-a71b0b63d108"
   },
   "outputs": [
    {
     "name": "stdout",
     "output_type": "stream",
     "text": [
      "Number of rows in validation dataset: 8000\n",
      "Number of unique words in validation dataset: 9984\n"
     ]
    }
   ],
   "source": [
    "print(f'Number of rows in validation dataset: {X_valid.shape[0]}')\n",
    "print(f'Number of unique words in validation dataset: {len(np.unique(np.hstack(X_valid)))}')"
   ]
  },
  {
   "cell_type": "code",
   "execution_count": 11,
   "metadata": {
    "colab": {
     "base_uri": "https://localhost:8080/"
    },
    "id": "Gw8AsjeeC5rD",
    "outputId": "e55b46ac-1d6e-4735-b015-d0222b6928cd"
   },
   "outputs": [
    {
     "name": "stdout",
     "output_type": "stream",
     "text": [
      "Number of rows in test dataset: 10000\n",
      "Number of unique words in test dataset: 9995\n"
     ]
    }
   ],
   "source": [
    "print(f'Number of rows in test dataset: {X_test.shape[0]}')\n",
    "print(f'Number of unique words in test dataset: {len(np.unique(np.hstack(X_test)))}')"
   ]
  },
  {
   "cell_type": "markdown",
   "metadata": {
    "id": "tKsLuucPeGm1"
   },
   "source": [
    "*   Number of labels\n",
    "\n"
   ]
  },
  {
   "cell_type": "code",
   "execution_count": 12,
   "metadata": {
    "colab": {
     "base_uri": "https://localhost:8080/"
    },
    "id": "c3B0mrWaDaU-",
    "outputId": "fc49d096-ac9f-40dc-b2e7-d4fc040c6089"
   },
   "outputs": [
    {
     "name": "stdout",
     "output_type": "stream",
     "text": [
      "Number of columns in training dataset: 300\n"
     ]
    }
   ],
   "source": [
    "print(f'Number of columns in training dataset: {X_train.shape[1]}')"
   ]
  },
  {
   "cell_type": "code",
   "execution_count": 13,
   "metadata": {
    "colab": {
     "base_uri": "https://localhost:8080/"
    },
    "id": "BkiV_XPQDS3c",
    "outputId": "2669ea5f-e31b-4dea-8431-4dc710c7adf0"
   },
   "outputs": [
    {
     "name": "stdout",
     "output_type": "stream",
     "text": [
      "Number of columns in validation dataset: 300\n"
     ]
    }
   ],
   "source": [
    "print(f'Number of columns in validation dataset: {X_valid.shape[1]}')"
   ]
  },
  {
   "cell_type": "code",
   "execution_count": 14,
   "metadata": {
    "colab": {
     "base_uri": "https://localhost:8080/"
    },
    "id": "QRzIpMZzDSqG",
    "outputId": "e3163dba-c329-49ac-a753-2c234d46a8b2"
   },
   "outputs": [
    {
     "name": "stdout",
     "output_type": "stream",
     "text": [
      "Number of columns in testing dataset: 300\n"
     ]
    }
   ],
   "source": [
    "print(f'Number of columns in testing dataset: {X_test.shape[1]}')"
   ]
  },
  {
   "cell_type": "code",
   "execution_count": 15,
   "metadata": {
    "colab": {
     "base_uri": "https://localhost:8080/"
    },
    "id": "aZCnqclKDScf",
    "outputId": "3d69e7d0-96b5-4bc5-ec29-69a877a64aaf"
   },
   "outputs": [
    {
     "name": "stdout",
     "output_type": "stream",
     "text": [
      "Unique categories: (array([0, 1]), array([0, 1]), array([0, 1]))\n"
     ]
    }
   ],
   "source": [
    "print(f'Unique categories: {np.unique(y_train), np.unique(y_valid), np.unique(y_test)}')"
   ]
  },
  {
   "cell_type": "markdown",
   "metadata": {
    "id": "Vl-YaRnZeFN2"
   },
   "source": [
    "#### Decode the feature value to get original sentence"
   ]
  },
  {
   "cell_type": "markdown",
   "metadata": {
    "id": "bLevNTJLey22"
   },
   "source": [
    "*   First, retrieve a dictionary that contains the mapping of words to their index in the IMDB dataset\n",
    "*   Now use the dictionary to get the original words from the encoding for a particular sentence\n",
    "*   Get the sentiment for the above sentence - **positive (1)** and **negative (0)**"
   ]
  },
  {
   "cell_type": "code",
   "execution_count": 16,
   "metadata": {
    "id": "HvgXhXRRKRhA"
   },
   "outputs": [],
   "source": [
    "def decode_review(x, y):\n",
    "  w2i = imdb.get_word_index()\n",
    "  w2i = {k:(v+3) for k, v in w2i.items()}\n",
    "  w2i['<PAD>'] = 0\n",
    "  w2i['<START>'] = 1\n",
    "  w2i['<UNK>'] = 2\n",
    "  i2w = {i: w for w, i in w2i.items()}\n",
    "\n",
    "  ws = (' '.join(i2w[i] for i in x))\n",
    "  print(f'Review: {ws}')\n",
    "  print(f'Actual Sentiment: {y}')\n",
    "  return w2i, i2w"
   ]
  },
  {
   "cell_type": "code",
   "execution_count": 17,
   "metadata": {
    "colab": {
     "base_uri": "https://localhost:8080/"
    },
    "id": "oulqQaRGMU6T",
    "outputId": "1b7e5927-a846-4183-8160-996494b63b57"
   },
   "outputs": [
    {
     "name": "stdout",
     "output_type": "stream",
     "text": [
      "Downloading data from https://storage.googleapis.com/tensorflow/tf-keras-datasets/imdb_word_index.json\n",
      "1646592/1641221 [==============================] - 0s 0us/step\n",
      "Review: <PAD> <PAD> <PAD> <PAD> <PAD> <PAD> <PAD> <PAD> <PAD> <PAD> <PAD> <PAD> <PAD> <PAD> <PAD> <PAD> <PAD> <PAD> <PAD> <PAD> <PAD> <PAD> <PAD> <PAD> <PAD> <PAD> <PAD> <PAD> <PAD> <PAD> <PAD> <PAD> <PAD> <PAD> <PAD> <PAD> <PAD> <PAD> <PAD> <PAD> <PAD> <PAD> <PAD> <PAD> <PAD> <PAD> <PAD> <PAD> <PAD> <PAD> <PAD> <PAD> <PAD> <PAD> <PAD> <PAD> <PAD> <PAD> <PAD> <PAD> <PAD> <PAD> <PAD> <PAD> <PAD> <PAD> <PAD> <PAD> <PAD> <PAD> <PAD> <START> the only possible way to enjoy this flick is to bang your head against the wall allow some internal <UNK> of the brain let a bunch of your brain cells die and once you are officially mentally retarded perhaps then you might enjoy this film br br the only saving grace was the story between <UNK> and stephanie govinda was excellent in the role of the cab driver and so was the brit girl perhaps if they would have created the whole movie on their <UNK> in india and how they eventually fall in love would have made it a much more enjoyable film br br the only reason i gave it a 3 rating is because of <UNK> and his ability as an actor when it comes to comedy br br <UNK> <UNK> and anil kapoor were wasted needlessly plus the scene at <UNK> of the re union was just too much to <UNK> being an international <UNK> in the post 9 11 world anil kapoor would have got himself shot much before he even reached the sky bridge to <UNK> his true love but then again the point of the movie was to defy logic gravity physics and throw an egg on the face of the general audience br br watch it at your own peril at least i know i have been <UNK> for life\n",
      "Actual Sentiment: 0\n"
     ]
    }
   ],
   "source": [
    "w2i, i2w = decode_review(X_train[0], y_train[0])"
   ]
  },
  {
   "cell_type": "code",
   "execution_count": 18,
   "metadata": {
    "colab": {
     "base_uri": "https://localhost:8080/"
    },
    "id": "5GE26nDZLqLn",
    "outputId": "42e89184-2fe6-42e5-93f1-a6b5a541a0ce"
   },
   "outputs": [
    {
     "name": "stdout",
     "output_type": "stream",
     "text": [
      "[(34704, 'fawn'), (52009, 'tsukino'), (52010, 'nunnery'), (16819, 'sonja'), (63954, 'vani'), (1411, 'woods'), (16118, 'spiders'), (2348, 'hanging'), (2292, 'woody'), (52011, 'trawling'), (52012, \"hold's\"), (11310, 'comically'), (40833, 'localized'), (30571, 'disobeying'), (52013, \"'royale\"), (40834, \"harpo's\"), (52014, 'canet'), (19316, 'aileen'), (52015, 'acurately'), (52016, \"diplomat's\"), (25245, 'rickman'), (6749, 'arranged'), (52017, 'rumbustious'), (52018, 'familiarness'), (52019, \"spider'\"), (68807, 'hahahah'), (52020, \"wood'\"), (40836, 'transvestism'), (34705, \"hangin'\"), (2341, 'bringing'), (40837, 'seamier'), (34706, 'wooded'), (52021, 'bravora'), (16820, 'grueling'), (1639, 'wooden'), (16821, 'wednesday'), (52022, \"'prix\"), (34707, 'altagracia'), (52023, 'circuitry'), (11588, 'crotch'), (57769, 'busybody'), (52024, \"tart'n'tangy\"), (14132, 'burgade'), (52026, 'thrace'), (11041, \"tom's\"), (52028, 'snuggles'), (29117, 'francesco'), (52030, 'complainers'), (52128, 'templarios'), (40838, '272')]\n"
     ]
    }
   ],
   "source": [
    "# get first 50 key, value pairs from id to word dictionary\n",
    "print(list(islice(i2w.items(), 0, 50))) "
   ]
  },
  {
   "cell_type": "markdown",
   "metadata": {
    "id": "EeQ4ASGTMvDM"
   },
   "source": [
    "#### Define Model\n",
    "- Define a Sequential Model\n",
    "- Add Embedding layer\n",
    "  - Embedding layer turns positive integers into dense vectors of fixed size\n",
    "  - **tensorflow.keras** embedding layer doesn't require us to onehot encode our words, instead we have to give each word a unique integer number as an id. For the imdb dataset we've loaded this has already been done, but if this wasn't the case we could use sklearn LabelEncoder.\n",
    "  - Size of the vocabulary will be 10000\n",
    "  - Give dimension of the dense embedding as 100\n",
    "  - Length of input sequences should be 300\n",
    "- Add LSTM layer\n",
    "  - Pass value in **return_sequences** as True\n",
    "- Add a **TimeDistributed** layer with 100 Dense neurons\n",
    "- Add Flatten layer\n",
    "- Add Dense layer"
   ]
  },
  {
   "cell_type": "code",
   "execution_count": 19,
   "metadata": {
    "id": "SadEvHbBOiKf"
   },
   "outputs": [],
   "source": [
    "def create_model():\n",
    "  sentiment_model = Sequential([\n",
    "                                Embedding(vocab_size, 100, input_length = max_len),\n",
    "                                LSTM(100, activation = 'relu', return_sequences = True),\n",
    "                                TimeDistributed(Dense(100, activation = 'relu')),\n",
    "                                TimeDistributed(Dense(100, activation = 'relu')),\n",
    "                                Flatten(),\n",
    "                                Dense(50),\n",
    "                                Dense(1, activation = 'sigmoid')])\n",
    "\n",
    "  return sentiment_model"
   ]
  },
  {
   "cell_type": "markdown",
   "metadata": {
    "id": "RWupPW-8OcjD"
   },
   "source": [
    "#### Print model summary"
   ]
  },
  {
   "cell_type": "code",
   "execution_count": 20,
   "metadata": {
    "colab": {
     "base_uri": "https://localhost:8080/"
    },
    "id": "-XPsZOIMeENz",
    "outputId": "8b59d240-6f02-44a4-957e-f9740d68301c"
   },
   "outputs": [
    {
     "name": "stdout",
     "output_type": "stream",
     "text": [
      "Model: \"sequential\"\n",
      "_________________________________________________________________\n",
      "Layer (type)                 Output Shape              Param #   \n",
      "=================================================================\n",
      "embedding (Embedding)        (None, 300, 100)          1000000   \n",
      "_________________________________________________________________\n",
      "lstm (LSTM)                  (None, 300, 100)          80400     \n",
      "_________________________________________________________________\n",
      "time_distributed (TimeDistri (None, 300, 100)          10100     \n",
      "_________________________________________________________________\n",
      "time_distributed_1 (TimeDist (None, 300, 100)          10100     \n",
      "_________________________________________________________________\n",
      "flatten (Flatten)            (None, 30000)             0         \n",
      "_________________________________________________________________\n",
      "dense_2 (Dense)              (None, 50)                1500050   \n",
      "_________________________________________________________________\n",
      "dense_3 (Dense)              (None, 1)                 51        \n",
      "=================================================================\n",
      "Total params: 2,600,701\n",
      "Trainable params: 2,600,701\n",
      "Non-trainable params: 0\n",
      "_________________________________________________________________\n"
     ]
    }
   ],
   "source": [
    "model = create_model()\n",
    "\n",
    "model.summary()"
   ]
  },
  {
   "cell_type": "markdown",
   "metadata": {
    "id": "ZYRuf4bJOXNm"
   },
   "source": [
    "#### Compile the model\n",
    "- Use Optimizer as Adam\n",
    "- Use Binary Crossentropy as loss\n",
    "- Use Accuracy as metrics"
   ]
  },
  {
   "cell_type": "code",
   "execution_count": 21,
   "metadata": {
    "id": "sMP9NNM_OjV-"
   },
   "outputs": [],
   "source": [
    "init_lr = 1e-4\n",
    "epochs = 20\n",
    "\n",
    "opt = Adam(lr = init_lr, decay = (init_lr/epochs))\n",
    "model.compile(loss = 'binary_crossentropy', optimizer = opt, metrics = ['accuracy'])"
   ]
  },
  {
   "cell_type": "markdown",
   "metadata": {
    "id": "IumsJGXpI_QC"
   },
   "source": [
    "#### Fit the model"
   ]
  },
  {
   "cell_type": "code",
   "execution_count": 22,
   "metadata": {
    "id": "l1gL7GP1IxJ-"
   },
   "outputs": [],
   "source": [
    "#checkpoint_path = \"/content/gdrive/MyDrive/AIML/Projects/NLP/Sentiment Analysis/training_1/cp-{epoch:04d}.ckpt\"\n",
    "#checkpoint_dir = os.path.dirname(checkpoint_path)\n",
    "\n",
    "batch_size = 32\n",
    "\n",
    "# Creating a callback that saves the model\n",
    "checkpoint = ModelCheckpoint('model-{epoch:03d}.model', monitor = 'val_loss', save_best_only = True, mode = 'auto')\n",
    "stop = EarlyStopping(monitor = 'val_loss', patience = 5, mode = 'min')"
   ]
  },
  {
   "cell_type": "code",
   "execution_count": 23,
   "metadata": {
    "colab": {
     "base_uri": "https://localhost:8080/"
    },
    "id": "bJ1E0lp4KAHg",
    "outputId": "75e5c5b5-f58e-4a05-ff2f-2dc28d679e8d"
   },
   "outputs": [
    {
     "name": "stdout",
     "output_type": "stream",
     "text": [
      "Epoch 1/20\n",
      "1000/1000 [==============================] - 306s 305ms/step - loss: 0.5422 - accuracy: 0.6787 - val_loss: 0.2773 - val_accuracy: 0.8863\n",
      "INFO:tensorflow:Assets written to: model-001.model/assets\n",
      "Epoch 2/20\n",
      "1000/1000 [==============================] - 296s 296ms/step - loss: 0.2242 - accuracy: 0.9140 - val_loss: 0.2616 - val_accuracy: 0.8909\n",
      "INFO:tensorflow:Assets written to: model-002.model/assets\n",
      "Epoch 3/20\n",
      "1000/1000 [==============================] - 293s 293ms/step - loss: 0.1712 - accuracy: 0.9344 - val_loss: 0.2801 - val_accuracy: 0.8878\n",
      "Epoch 4/20\n",
      "1000/1000 [==============================] - 292s 292ms/step - loss: 0.1399 - accuracy: 0.9499 - val_loss: 0.2936 - val_accuracy: 0.8894\n",
      "Epoch 5/20\n",
      "1000/1000 [==============================] - 286s 286ms/step - loss: 0.1206 - accuracy: 0.9562 - val_loss: 0.3157 - val_accuracy: 0.8864\n",
      "Epoch 6/20\n",
      "1000/1000 [==============================] - 285s 285ms/step - loss: 0.0907 - accuracy: 0.9696 - val_loss: 0.3657 - val_accuracy: 0.8835\n",
      "Epoch 7/20\n",
      "1000/1000 [==============================] - 286s 286ms/step - loss: nan - accuracy: 0.8826 - val_loss: nan - val_accuracy: 0.4994\n"
     ]
    },
    {
     "data": {
      "text/plain": [
       "<tensorflow.python.keras.callbacks.History at 0x7fccc3bcb7b8>"
      ]
     },
     "execution_count": 23,
     "metadata": {
      "tags": []
     },
     "output_type": "execute_result"
    }
   ],
   "source": [
    "model.fit(X_train, y_train, validation_data = (X_valid, y_valid), epochs = epochs, batch_size = batch_size, callbacks = [checkpoint, stop])"
   ]
  },
  {
   "cell_type": "markdown",
   "metadata": {
    "id": "KsgukmpR1h1l"
   },
   "source": [
    "#### Evaluate model"
   ]
  },
  {
   "cell_type": "code",
   "execution_count": 26,
   "metadata": {
    "colab": {
     "base_uri": "https://localhost:8080/"
    },
    "id": "1g3c-X2u1vDl",
    "outputId": "3667c89c-50b6-48cc-9c47-0472375f09b0"
   },
   "outputs": [
    {
     "name": "stdout",
     "output_type": "stream",
     "text": [
      "1000/1000 [==============================] - 74s 74ms/step - loss: 0.1611 - accuracy: 0.9434\n",
      "Training Loss: 0.1611 and Training Accuracy: 94.34%\n",
      "313/313 [==============================] - 23s 73ms/step - loss: 0.2626 - accuracy: 0.8932\n",
      "Loss on test set: 0.2626 and Accuracy on Test Set: 89.32%\n"
     ]
    }
   ],
   "source": [
    "# Load the previously saved model\n",
    "from tensorflow.keras.models import load_model\n",
    "model = load_model('model-002.model')\n",
    "\n",
    "# Evaluation of model\n",
    "training_loss, training_accuracy = model.evaluate(X_train, y_train)\n",
    "print('Training Loss: %.4f and Training Accuracy: %.2f%%' % (training_loss, training_accuracy * 100))\n",
    "\n",
    "test_loss, test_accuracy = model.evaluate(X_test, y_test)\n",
    "print('Loss on test set: %.4f and Accuracy on Test Set: %.2f%%' % (test_loss, test_accuracy * 100)) "
   ]
  },
  {
   "cell_type": "code",
   "execution_count": 27,
   "metadata": {
    "colab": {
     "base_uri": "https://localhost:8080/"
    },
    "id": "ECBpzIaj34Dj",
    "outputId": "b83274f2-32fd-4a31-e51f-2d7d544f7ede"
   },
   "outputs": [
    {
     "name": "stdout",
     "output_type": "stream",
     "text": [
      "Classification Report:\n",
      "              precision    recall  f1-score   support\n",
      "\n",
      "           0       0.88      0.90      0.89      4818\n",
      "           1       0.90      0.89      0.90      5182\n",
      "\n",
      "    accuracy                           0.89     10000\n",
      "   macro avg       0.89      0.89      0.89     10000\n",
      "weighted avg       0.89      0.89      0.89     10000\n",
      "\n"
     ]
    }
   ],
   "source": [
    "y_pred = model.predict_classes(X_test)\n",
    "print(f'Classification Report:\\n{classification_report(y_pred, y_test)}')"
   ]
  },
  {
   "cell_type": "code",
   "execution_count": 28,
   "metadata": {
    "colab": {
     "base_uri": "https://localhost:8080/",
     "height": 444
    },
    "id": "KRA5Qk5i33mo",
    "outputId": "6d3ac678-3ea2-47c4-f1fb-00639ac818d2"
   },
   "outputs": [
    {
     "name": "stdout",
     "output_type": "stream",
     "text": [
      "\n",
      " Confusion matrix:\n",
      " [[4331  581]\n",
      " [ 487 4601]]\n"
     ]
    },
    {
     "data": {
      "text/plain": [
       "Text(0.5, 1.0, 'Confusion Matrix HeatMap')"
      ]
     },
     "execution_count": 28,
     "metadata": {
      "tags": []
     },
     "output_type": "execute_result"
    },
    {
     "data": {
      "image/png": "[encoded data removed]",
      "text/plain": [
       "<Figure size 360x360 with 2 Axes>"
      ]
     },
     "metadata": {
      "needs_background": "light",
      "tags": []
     },
     "output_type": "display_data"
    }
   ],
   "source": [
    "cfm_lstm = confusion_matrix(y_test, y_pred)\n",
    "print('\\n Confusion matrix:\\n', cfm_lstm)\n",
    "\n",
    "plt.figure(figsize = (5, 5))\n",
    "sns.heatmap(cfm_lstm, annot = True, cmap = 'RdYlGn', fmt = 'd')\n",
    "plt.xlabel('Actual Classes', fontsize = 15)\n",
    "plt.ylabel('Predicted Classes', fontsize = 15)\n",
    "plt.title('Confusion Matrix HeatMap', fontsize = 15)"
   ]
  },
  {
   "cell_type": "markdown",
   "metadata": {
    "id": "mJ7hivho1ok2"
   },
   "source": [
    "#### Predict on one sample"
   ]
  },
  {
   "cell_type": "code",
   "execution_count": 29,
   "metadata": {
    "colab": {
     "base_uri": "https://localhost:8080/"
    },
    "id": "k2nLNCBOS6pO",
    "outputId": "97f881a9-a3fb-473b-850f-5a01f7326745"
   },
   "outputs": [
    {
     "name": "stdout",
     "output_type": "stream",
     "text": [
      "Review: <PAD> <PAD> <PAD> <PAD> <PAD> <PAD> <PAD> <PAD> <PAD> <PAD> <PAD> <PAD> <PAD> <PAD> <PAD> <PAD> <PAD> <PAD> <PAD> <PAD> <PAD> <PAD> <PAD> <PAD> <PAD> <PAD> <PAD> <PAD> <PAD> <PAD> <PAD> <PAD> <PAD> <PAD> <PAD> <PAD> <PAD> <PAD> <PAD> <PAD> <PAD> <PAD> <PAD> <PAD> <PAD> <PAD> <PAD> <PAD> <PAD> <PAD> <PAD> <PAD> <PAD> <PAD> <PAD> <PAD> <PAD> <PAD> <PAD> <PAD> <PAD> <PAD> <PAD> <PAD> <PAD> <PAD> <PAD> <PAD> <PAD> <PAD> <PAD> <PAD> <PAD> <PAD> <PAD> <PAD> <PAD> <PAD> <PAD> <PAD> <PAD> <PAD> <PAD> <PAD> <PAD> <PAD> <PAD> <PAD> <PAD> <PAD> <PAD> <PAD> <PAD> <PAD> <PAD> <PAD> <PAD> <PAD> <PAD> <PAD> <PAD> <PAD> <PAD> <PAD> <PAD> <PAD> <PAD> <PAD> <PAD> <PAD> <PAD> <PAD> <PAD> <PAD> <PAD> <PAD> <PAD> <PAD> <PAD> <PAD> <PAD> <PAD> <PAD> <PAD> <PAD> <PAD> <PAD> <PAD> <PAD> <PAD> <PAD> <PAD> <PAD> <PAD> <PAD> <PAD> <PAD> <PAD> <PAD> <PAD> <PAD> <PAD> <PAD> <PAD> <PAD> <PAD> <PAD> <PAD> <PAD> <PAD> <PAD> <PAD> <PAD> <PAD> <PAD> <PAD> <PAD> <PAD> <PAD> <PAD> <PAD> <PAD> <PAD> <PAD> <PAD> <PAD> <PAD> <PAD> <PAD> <PAD> <PAD> <PAD> <PAD> <PAD> <PAD> <PAD> <PAD> <PAD> <PAD> <PAD> <PAD> <PAD> <PAD> <PAD> <PAD> <PAD> <PAD> <START> this movie was great and i was waiting for it for a long time when it finally came out i was really happy and looked forward to a 10 out of 10 it was great and lived up to my potential the performances were great on the part of the adults and most of the kids the only bad performance was by milo himself there was one problem that i encountered with this and others like it movie all of the characters i wanted to live were getting killed overall i give this movie an excellent 9 out of 10 maybe we should <UNK> better people to kill next time though ok\n",
      "Actual Sentiment: 1\n",
      "Predicted Sentiment: 1\n"
     ]
    }
   ],
   "source": [
    "decode_review(X_test[10], y_test[10])\n",
    "print(f'Predicted Sentiment: {y_pred[10][0]}')"
   ]
  },
  {
   "cell_type": "markdown",
   "metadata": {
    "id": "5A_WdI6qbAdr"
   },
   "source": [
    "Thus, from this exercise we were able to conclude the following points:\n",
    "\n",
    "* We were asked to perform to build a text classification model that analyses the customer's sentiments based on their reviews in the IMDB database.   \n",
    "* The best obtained model (after training) we got an accuracy of about **94.34%** on training data set and **89.32%** on test data\n",
    "* From the confusion matrix we can see that, out of 4818 negative sentiments present in the test data, it was able to correctly predict for 4331 negative sentiments. Out of 5182 positive sentiments the model was able to correctly predict for 4601 sentiments\n",
    "* As an example, the model was correctly able to predict the sentiment for the 10th review present in the test set.\n",
    "\n",
    "\n",
    "\n"
   ]
  }
 ],
 "metadata": {
  "colab": {
   "collapsed_sections": [],
   "name": "Project 10 - NLP Natural Language Processing - Sentiment Analysis_Raman.ipynb",
   "provenance": []
  },
  "kernelspec": {
   "display_name": "Python 3",
   "language": "python",
   "name": "python3"
  },
  "language_info": {
   "codemirror_mode": {
    "name": "ipython",
    "version": 3
   },
   "file_extension": ".py",
   "mimetype": "text/x-python",
   "name": "python",
   "nbconvert_exporter": "python",
   "pygments_lexer": "ipython3",
   "version": "3.7.7"
  }
 },
 "nbformat": 4,
 "nbformat_minor": 1
}
